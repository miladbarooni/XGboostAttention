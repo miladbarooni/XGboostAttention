{
 "cells": [
  {
   "cell_type": "code",
   "execution_count": 1,
   "metadata": {},
   "outputs": [],
   "source": [
    "import torch\n",
    "import torchvision\n",
    "import torchvision.transforms as transforms\n",
    "import xgboost as xgb\n",
    "import numpy as np\n",
    "from sklearn.metrics import accuracy_score\n",
    "\n",
    "import matplotlib.pyplot as plt\n"
   ]
  },
  {
   "cell_type": "code",
   "execution_count": 2,
   "metadata": {},
   "outputs": [],
   "source": [
    "transform = transforms.Compose([transforms.ToTensor(), transforms.Normalize((0.5,), (0.5,))])\n",
    "\n",
    "trainset = torchvision.datasets.MNIST(root='./data', train=True, download=True, transform=transform)\n",
    "trainloader = torch.utils.data.DataLoader(trainset, batch_size=len(trainset), shuffle=True)\n",
    "\n",
    "testset = torchvision.datasets.MNIST(root='./data', train=False, download=True, transform=transform)\n",
    "testloader = torch.utils.data.DataLoader(testset, batch_size=len(testset), shuffle=False)\n"
   ]
  },
  {
   "cell_type": "code",
   "execution_count": 3,
   "metadata": {},
   "outputs": [],
   "source": [
    "train_data_iter = iter(trainloader)\n",
    "train_images, train_labels = next(train_data_iter)\n",
    "\n",
    "test_data_iter = iter(testloader)\n",
    "test_images, test_labels = next(test_data_iter)\n",
    "\n",
    "train_images = train_images.view(-1, 28*28).numpy()\n",
    "train_labels = train_labels.numpy()\n",
    "\n",
    "test_images = test_images.view(-1, 28*28).numpy()\n",
    "test_labels = test_labels.numpy()\n",
    "\n",
    "train_labels = train_labels.ravel()\n",
    "test_labels = test_labels.ravel()\n",
    "\n"
   ]
  },
  {
   "cell_type": "code",
   "execution_count": 4,
   "metadata": {},
   "outputs": [],
   "source": [
    "# plt.imshow(train_images[10].reshape(28, 28))"
   ]
  },
  {
   "cell_type": "code",
   "execution_count": 5,
   "metadata": {},
   "outputs": [
    {
     "name": "stdout",
     "output_type": "stream",
     "text": [
      "[0]\teval-mlogloss:1.96071\n",
      "[1]\teval-mlogloss:1.72771\n",
      "[2]\teval-mlogloss:1.54761\n",
      "[3]\teval-mlogloss:1.40229\n",
      "[4]\teval-mlogloss:1.28212\n",
      "[5]\teval-mlogloss:1.17831\n",
      "[6]\teval-mlogloss:1.08765\n",
      "[7]\teval-mlogloss:1.00655\n",
      "[8]\teval-mlogloss:0.93493\n",
      "[9]\teval-mlogloss:0.87134\n",
      "[10]\teval-mlogloss:0.81401\n",
      "[11]\teval-mlogloss:0.76197\n",
      "[12]\teval-mlogloss:0.71554\n",
      "[13]\teval-mlogloss:0.67219\n",
      "[14]\teval-mlogloss:0.63363\n",
      "[15]\teval-mlogloss:0.59769\n",
      "[16]\teval-mlogloss:0.56497\n",
      "[17]\teval-mlogloss:0.53528\n",
      "[18]\teval-mlogloss:0.50787\n",
      "[19]\teval-mlogloss:0.48283\n",
      "[20]\teval-mlogloss:0.45918\n",
      "[21]\teval-mlogloss:0.43776\n",
      "[22]\teval-mlogloss:0.41739\n",
      "[23]\teval-mlogloss:0.39922\n",
      "[24]\teval-mlogloss:0.38167\n",
      "[25]\teval-mlogloss:0.36643\n",
      "[26]\teval-mlogloss:0.35166\n",
      "[27]\teval-mlogloss:0.33806\n",
      "[28]\teval-mlogloss:0.32522\n",
      "[29]\teval-mlogloss:0.31329\n",
      "[30]\teval-mlogloss:0.30227\n",
      "[31]\teval-mlogloss:0.29163\n",
      "[32]\teval-mlogloss:0.28203\n",
      "[33]\teval-mlogloss:0.27297\n",
      "[34]\teval-mlogloss:0.26453\n",
      "[35]\teval-mlogloss:0.25639\n",
      "[36]\teval-mlogloss:0.24877\n",
      "[37]\teval-mlogloss:0.24185\n",
      "[38]\teval-mlogloss:0.23534\n",
      "[39]\teval-mlogloss:0.22895\n",
      "[40]\teval-mlogloss:0.22317\n",
      "[41]\teval-mlogloss:0.21775\n",
      "[42]\teval-mlogloss:0.21259\n",
      "[43]\teval-mlogloss:0.20802\n",
      "[44]\teval-mlogloss:0.20349\n",
      "[45]\teval-mlogloss:0.19920\n",
      "[46]\teval-mlogloss:0.19529\n",
      "[47]\teval-mlogloss:0.19110\n",
      "[48]\teval-mlogloss:0.18722\n",
      "[49]\teval-mlogloss:0.18348\n",
      "[50]\teval-mlogloss:0.18000\n",
      "[51]\teval-mlogloss:0.17672\n",
      "[52]\teval-mlogloss:0.17375\n",
      "[53]\teval-mlogloss:0.17053\n",
      "[54]\teval-mlogloss:0.16780\n",
      "[55]\teval-mlogloss:0.16475\n",
      "[56]\teval-mlogloss:0.16209\n",
      "[57]\teval-mlogloss:0.15958\n",
      "[58]\teval-mlogloss:0.15716\n",
      "[59]\teval-mlogloss:0.15500\n",
      "[60]\teval-mlogloss:0.15264\n",
      "[61]\teval-mlogloss:0.15075\n",
      "[62]\teval-mlogloss:0.14859\n",
      "[63]\teval-mlogloss:0.14665\n",
      "[64]\teval-mlogloss:0.14465\n",
      "[65]\teval-mlogloss:0.14275\n",
      "[66]\teval-mlogloss:0.14099\n",
      "[67]\teval-mlogloss:0.13925\n",
      "[68]\teval-mlogloss:0.13742\n",
      "[69]\teval-mlogloss:0.13588\n",
      "[70]\teval-mlogloss:0.13455\n",
      "[71]\teval-mlogloss:0.13291\n",
      "[72]\teval-mlogloss:0.13131\n",
      "[73]\teval-mlogloss:0.12989\n",
      "[74]\teval-mlogloss:0.12838\n",
      "[75]\teval-mlogloss:0.12700\n",
      "[76]\teval-mlogloss:0.12562\n",
      "[77]\teval-mlogloss:0.12445\n",
      "[78]\teval-mlogloss:0.12307\n",
      "[79]\teval-mlogloss:0.12180\n",
      "[80]\teval-mlogloss:0.12059\n",
      "[81]\teval-mlogloss:0.11962\n",
      "[82]\teval-mlogloss:0.11860\n",
      "[83]\teval-mlogloss:0.11761\n",
      "[84]\teval-mlogloss:0.11655\n",
      "[85]\teval-mlogloss:0.11551\n",
      "[86]\teval-mlogloss:0.11452\n",
      "[87]\teval-mlogloss:0.11366\n",
      "[88]\teval-mlogloss:0.11276\n",
      "[89]\teval-mlogloss:0.11173\n",
      "[90]\teval-mlogloss:0.11089\n",
      "[91]\teval-mlogloss:0.11004\n",
      "[92]\teval-mlogloss:0.10926\n",
      "[93]\teval-mlogloss:0.10840\n",
      "[94]\teval-mlogloss:0.10763\n",
      "[95]\teval-mlogloss:0.10672\n",
      "[96]\teval-mlogloss:0.10603\n",
      "[97]\teval-mlogloss:0.10540\n",
      "[98]\teval-mlogloss:0.10470\n",
      "[99]\teval-mlogloss:0.10388\n"
     ]
    }
   ],
   "source": [
    "dtrain = xgb.DMatrix(train_images, label=train_labels)\n",
    "dtest = xgb.DMatrix(test_images, label=test_labels)\n",
    "\n",
    "param = {\n",
    "    'max_depth': 6,\n",
    "    'eta': 0.1,\n",
    "    'objective': 'multi:softmax',\n",
    "    'num_class': 10,\n",
    "    'eval_metric': 'mlogloss'\n",
    "}\n",
    "\n",
    "num_round = 100\n",
    "evallist  = [(dtrain, 'eval'), (dtest, 'eval')]\n",
    "bst = xgb.train(param, dtrain, num_round, evals=evallist, verbose_eval=True)"
   ]
  },
  {
   "cell_type": "code",
   "execution_count": 7,
   "metadata": {},
   "outputs": [
    {
     "name": "stdout",
     "output_type": "stream",
     "text": [
      "Accuracy: 97.02%\n"
     ]
    }
   ],
   "source": [
    "preds = bst.predict(dtest)\n",
    "\n",
    "accuracy = accuracy_score(test_labels, preds)\n",
    "print(f'Accuracy: {accuracy * 100:.2f}%')\n"
   ]
  },
  {
   "cell_type": "code",
   "execution_count": 8,
   "metadata": {},
   "outputs": [
    {
     "name": "stdout",
     "output_type": "stream",
     "text": [
      "Accuracy: 99.60%\n"
     ]
    }
   ],
   "source": [
    "preds = bst.predict(dtrain)\n",
    "\n",
    "accuracy = accuracy_score(train_labels, preds)\n",
    "print(f'Accuracy: {accuracy * 100:.2f}%')\n"
   ]
  }
 ],
 "metadata": {
  "kernelspec": {
   "display_name": "base",
   "language": "python",
   "name": "python3"
  },
  "language_info": {
   "codemirror_mode": {
    "name": "ipython",
    "version": 3
   },
   "file_extension": ".py",
   "mimetype": "text/x-python",
   "name": "python",
   "nbconvert_exporter": "python",
   "pygments_lexer": "ipython3",
   "version": "3.12.2"
  }
 },
 "nbformat": 4,
 "nbformat_minor": 2
}
