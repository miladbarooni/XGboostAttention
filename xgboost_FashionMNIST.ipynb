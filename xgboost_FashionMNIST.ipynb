{
 "cells": [
  {
   "cell_type": "code",
   "execution_count": 2,
   "metadata": {},
   "outputs": [],
   "source": [
    "import torch\n",
    "import torchvision\n",
    "import torchvision.transforms as transforms\n",
    "import xgboost as xgb\n",
    "import numpy as np\n",
    "from sklearn.metrics import accuracy_score\n",
    "\n",
    "import matplotlib.pyplot as plt\n"
   ]
  },
  {
   "cell_type": "code",
   "execution_count": 5,
   "metadata": {},
   "outputs": [
    {
     "name": "stdout",
     "output_type": "stream",
     "text": [
      "Downloading http://fashion-mnist.s3-website.eu-central-1.amazonaws.com/train-images-idx3-ubyte.gz\n",
      "Downloading http://fashion-mnist.s3-website.eu-central-1.amazonaws.com/train-images-idx3-ubyte.gz to ./data/FashionMNIST/raw/train-images-idx3-ubyte.gz\n"
     ]
    },
    {
     "name": "stderr",
     "output_type": "stream",
     "text": [
      "100%|██████████| 26421880/26421880 [00:20<00:00, 1318475.90it/s]\n"
     ]
    },
    {
     "name": "stdout",
     "output_type": "stream",
     "text": [
      "Extracting ./data/FashionMNIST/raw/train-images-idx3-ubyte.gz to ./data/FashionMNIST/raw\n",
      "\n",
      "Downloading http://fashion-mnist.s3-website.eu-central-1.amazonaws.com/train-labels-idx1-ubyte.gz\n",
      "Downloading http://fashion-mnist.s3-website.eu-central-1.amazonaws.com/train-labels-idx1-ubyte.gz to ./data/FashionMNIST/raw/train-labels-idx1-ubyte.gz\n"
     ]
    },
    {
     "name": "stderr",
     "output_type": "stream",
     "text": [
      "100%|██████████| 29515/29515 [00:00<00:00, 299185.50it/s]\n"
     ]
    },
    {
     "name": "stdout",
     "output_type": "stream",
     "text": [
      "Extracting ./data/FashionMNIST/raw/train-labels-idx1-ubyte.gz to ./data/FashionMNIST/raw\n",
      "\n",
      "Downloading http://fashion-mnist.s3-website.eu-central-1.amazonaws.com/t10k-images-idx3-ubyte.gz\n",
      "Downloading http://fashion-mnist.s3-website.eu-central-1.amazonaws.com/t10k-images-idx3-ubyte.gz to ./data/FashionMNIST/raw/t10k-images-idx3-ubyte.gz\n"
     ]
    },
    {
     "name": "stderr",
     "output_type": "stream",
     "text": [
      "100%|██████████| 4422102/4422102 [00:04<00:00, 887451.31it/s] \n"
     ]
    },
    {
     "name": "stdout",
     "output_type": "stream",
     "text": [
      "Extracting ./data/FashionMNIST/raw/t10k-images-idx3-ubyte.gz to ./data/FashionMNIST/raw\n",
      "\n",
      "Downloading http://fashion-mnist.s3-website.eu-central-1.amazonaws.com/t10k-labels-idx1-ubyte.gz\n",
      "Downloading http://fashion-mnist.s3-website.eu-central-1.amazonaws.com/t10k-labels-idx1-ubyte.gz to ./data/FashionMNIST/raw/t10k-labels-idx1-ubyte.gz\n"
     ]
    },
    {
     "name": "stderr",
     "output_type": "stream",
     "text": [
      "100%|██████████| 5148/5148 [00:00<00:00, 25791.28it/s]"
     ]
    },
    {
     "name": "stdout",
     "output_type": "stream",
     "text": [
      "Extracting ./data/FashionMNIST/raw/t10k-labels-idx1-ubyte.gz to ./data/FashionMNIST/raw\n",
      "\n"
     ]
    },
    {
     "name": "stderr",
     "output_type": "stream",
     "text": [
      "\n"
     ]
    }
   ],
   "source": [
    "transform = transforms.Compose([transforms.ToTensor(), transforms.Normalize((0.5,), (0.5,))])\n",
    "\n",
    "trainset = torchvision.datasets.FashionMNIST(root='./data', train=True, download=True, transform=transform)\n",
    "trainloader = torch.utils.data.DataLoader(trainset, batch_size=len(trainset), shuffle=True)\n",
    "\n",
    "testset = torchvision.datasets.FashionMNIST(root='./data', train=False, download=True, transform=transform)\n",
    "testloader = torch.utils.data.DataLoader(testset, batch_size=len(testset), shuffle=False)\n"
   ]
  },
  {
   "cell_type": "code",
   "execution_count": 6,
   "metadata": {},
   "outputs": [],
   "source": [
    "train_data_iter = iter(trainloader)\n",
    "train_images, train_labels = next(train_data_iter)\n",
    "\n",
    "test_data_iter = iter(testloader)\n",
    "test_images, test_labels = next(test_data_iter)\n",
    "\n",
    "train_images = train_images.view(-1, 28*28).numpy()\n",
    "train_labels = train_labels.numpy()\n",
    "\n",
    "test_images = test_images.view(-1, 28*28).numpy()\n",
    "test_labels = test_labels.numpy()\n",
    "\n",
    "# Convert labels to 1D array\n",
    "train_labels = train_labels.ravel()\n",
    "test_labels = test_labels.ravel()\n",
    "\n"
   ]
  },
  {
   "cell_type": "code",
   "execution_count": 7,
   "metadata": {},
   "outputs": [],
   "source": [
    "# plt.imshow(train_images[10].reshape(28, 28))"
   ]
  },
  {
   "cell_type": "code",
   "execution_count": 8,
   "metadata": {},
   "outputs": [
    {
     "name": "stdout",
     "output_type": "stream",
     "text": [
      "[0]\teval-mlogloss:1.97905\n",
      "[1]\teval-mlogloss:1.76250\n",
      "[2]\teval-mlogloss:1.59738\n",
      "[3]\teval-mlogloss:1.46382\n",
      "[4]\teval-mlogloss:1.35261\n",
      "[5]\teval-mlogloss:1.25705\n",
      "[6]\teval-mlogloss:1.17460\n",
      "[7]\teval-mlogloss:1.10158\n",
      "[8]\teval-mlogloss:1.03764\n",
      "[9]\teval-mlogloss:0.98030\n",
      "[10]\teval-mlogloss:0.92878\n",
      "[11]\teval-mlogloss:0.88265\n",
      "[12]\teval-mlogloss:0.84076\n",
      "[13]\teval-mlogloss:0.80278\n",
      "[14]\teval-mlogloss:0.76862\n",
      "[15]\teval-mlogloss:0.73791\n",
      "[16]\teval-mlogloss:0.70983\n",
      "[17]\teval-mlogloss:0.68368\n",
      "[18]\teval-mlogloss:0.66008\n",
      "[19]\teval-mlogloss:0.63848\n",
      "[20]\teval-mlogloss:0.61822\n",
      "[21]\teval-mlogloss:0.59986\n",
      "[22]\teval-mlogloss:0.58295\n",
      "[23]\teval-mlogloss:0.56687\n",
      "[24]\teval-mlogloss:0.55212\n",
      "[25]\teval-mlogloss:0.53844\n",
      "[26]\teval-mlogloss:0.52570\n",
      "[27]\teval-mlogloss:0.51412\n",
      "[28]\teval-mlogloss:0.50294\n",
      "[29]\teval-mlogloss:0.49246\n",
      "[30]\teval-mlogloss:0.48276\n",
      "[31]\teval-mlogloss:0.47372\n",
      "[32]\teval-mlogloss:0.46506\n",
      "[33]\teval-mlogloss:0.45730\n",
      "[34]\teval-mlogloss:0.44981\n",
      "[35]\teval-mlogloss:0.44300\n",
      "[36]\teval-mlogloss:0.43672\n",
      "[37]\teval-mlogloss:0.43066\n",
      "[38]\teval-mlogloss:0.42517\n",
      "[39]\teval-mlogloss:0.41975\n",
      "[40]\teval-mlogloss:0.41509\n",
      "[41]\teval-mlogloss:0.41051\n",
      "[42]\teval-mlogloss:0.40584\n",
      "[43]\teval-mlogloss:0.40145\n",
      "[44]\teval-mlogloss:0.39781\n",
      "[45]\teval-mlogloss:0.39429\n",
      "[46]\teval-mlogloss:0.39040\n",
      "[47]\teval-mlogloss:0.38729\n",
      "[48]\teval-mlogloss:0.38414\n",
      "[49]\teval-mlogloss:0.38103\n",
      "[50]\teval-mlogloss:0.37772\n",
      "[51]\teval-mlogloss:0.37496\n",
      "[52]\teval-mlogloss:0.37253\n",
      "[53]\teval-mlogloss:0.37005\n",
      "[54]\teval-mlogloss:0.36770\n",
      "[55]\teval-mlogloss:0.36543\n",
      "[56]\teval-mlogloss:0.36332\n",
      "[57]\teval-mlogloss:0.36120\n",
      "[58]\teval-mlogloss:0.35934\n",
      "[59]\teval-mlogloss:0.35738\n",
      "[60]\teval-mlogloss:0.35577\n",
      "[61]\teval-mlogloss:0.35408\n",
      "[62]\teval-mlogloss:0.35216\n",
      "[63]\teval-mlogloss:0.35059\n",
      "[64]\teval-mlogloss:0.34880\n",
      "[65]\teval-mlogloss:0.34707\n",
      "[66]\teval-mlogloss:0.34524\n",
      "[67]\teval-mlogloss:0.34380\n",
      "[68]\teval-mlogloss:0.34263\n",
      "[69]\teval-mlogloss:0.34133\n",
      "[70]\teval-mlogloss:0.33983\n",
      "[71]\teval-mlogloss:0.33862\n",
      "[72]\teval-mlogloss:0.33735\n",
      "[73]\teval-mlogloss:0.33614\n",
      "[74]\teval-mlogloss:0.33488\n",
      "[75]\teval-mlogloss:0.33349\n",
      "[76]\teval-mlogloss:0.33231\n",
      "[77]\teval-mlogloss:0.33119\n",
      "[78]\teval-mlogloss:0.33014\n",
      "[79]\teval-mlogloss:0.32937\n",
      "[80]\teval-mlogloss:0.32835\n",
      "[81]\teval-mlogloss:0.32758\n",
      "[82]\teval-mlogloss:0.32668\n",
      "[83]\teval-mlogloss:0.32569\n",
      "[84]\teval-mlogloss:0.32473\n",
      "[85]\teval-mlogloss:0.32372\n",
      "[86]\teval-mlogloss:0.32285\n",
      "[87]\teval-mlogloss:0.32203\n",
      "[88]\teval-mlogloss:0.32122\n",
      "[89]\teval-mlogloss:0.32060\n",
      "[90]\teval-mlogloss:0.31951\n",
      "[91]\teval-mlogloss:0.31874\n",
      "[92]\teval-mlogloss:0.31813\n",
      "[93]\teval-mlogloss:0.31730\n",
      "[94]\teval-mlogloss:0.31631\n",
      "[95]\teval-mlogloss:0.31568\n",
      "[96]\teval-mlogloss:0.31505\n",
      "[97]\teval-mlogloss:0.31432\n",
      "[98]\teval-mlogloss:0.31369\n",
      "[99]\teval-mlogloss:0.31299\n"
     ]
    }
   ],
   "source": [
    "dtrain = xgb.DMatrix(train_images, label=train_labels)\n",
    "dtest = xgb.DMatrix(test_images, label=test_labels)\n",
    "\n",
    "param = {\n",
    "    'max_depth': 6,\n",
    "    'eta': 0.1,\n",
    "    'objective': 'multi:softmax',\n",
    "    'num_class': 10,\n",
    "    'eval_metric': 'mlogloss'\n",
    "}\n",
    "\n",
    "num_round = 100\n",
    "evallist  = [(dtrain, 'eval'), (dtest, 'eval')]\n",
    "bst = xgb.train(param, dtrain, num_round, evals=evallist, verbose_eval=True)"
   ]
  },
  {
   "cell_type": "code",
   "execution_count": 10,
   "metadata": {},
   "outputs": [
    {
     "name": "stdout",
     "output_type": "stream",
     "text": [
      "Accuracy: 88.35%\n"
     ]
    }
   ],
   "source": [
    "preds = bst.predict(dtest)\n",
    "\n",
    "accuracy = accuracy_score(test_labels, preds)\n",
    "print(f'Accuracy: {accuracy * 100:.2f}%')\n"
   ]
  },
  {
   "cell_type": "code",
   "execution_count": 11,
   "metadata": {},
   "outputs": [
    {
     "name": "stdout",
     "output_type": "stream",
     "text": [
      "Accuracy: 96.12%\n"
     ]
    }
   ],
   "source": [
    "preds = bst.predict(dtrain)\n",
    "\n",
    "accuracy = accuracy_score(train_labels, preds)\n",
    "print(f'Accuracy: {accuracy * 100:.2f}%')\n"
   ]
  }
 ],
 "metadata": {
  "kernelspec": {
   "display_name": "base",
   "language": "python",
   "name": "python3"
  },
  "language_info": {
   "codemirror_mode": {
    "name": "ipython",
    "version": 3
   },
   "file_extension": ".py",
   "mimetype": "text/x-python",
   "name": "python",
   "nbconvert_exporter": "python",
   "pygments_lexer": "ipython3",
   "version": "3.12.2"
  }
 },
 "nbformat": 4,
 "nbformat_minor": 2
}
